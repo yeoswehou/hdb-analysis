{
 "cells": [
  {
   "cell_type": "code",
   "execution_count": 3,
   "outputs": [],
   "source": [
    "import numpy as np\n",
    "import pandas as pd\n",
    "import matplotlib.pyplot as plt\n"
   ],
   "metadata": {
    "collapsed": false,
    "pycharm": {
     "name": "#%%\n"
    }
   }
  },
  {
   "cell_type": "code",
   "execution_count": 8,
   "outputs": [
    {
     "data": {
      "text/plain": "     month        town flat_type block        street_name storey_range  \\\n0  2017-01  ANG MO KIO    2 ROOM   406  ANG MO KIO AVE 10     10 TO 12   \n1  2017-01  ANG MO KIO    3 ROOM   108   ANG MO KIO AVE 4     01 TO 03   \n2  2017-01  ANG MO KIO    3 ROOM   602   ANG MO KIO AVE 5     01 TO 03   \n3  2017-01  ANG MO KIO    3 ROOM   465  ANG MO KIO AVE 10     04 TO 06   \n4  2017-01  ANG MO KIO    3 ROOM   601   ANG MO KIO AVE 5     01 TO 03   \n\n   floor_area_sqm      flat_model  lease_commence_date     remaining_lease  \\\n0            44.0        Improved                 1979  61 years 04 months   \n1            67.0  New Generation                 1978  60 years 07 months   \n2            67.0  New Generation                 1980  62 years 05 months   \n3            68.0  New Generation                 1980   62 years 01 month   \n4            67.0  New Generation                 1980  62 years 05 months   \n\n   resale_price  \n0      232000.0  \n1      250000.0  \n2      262000.0  \n3      265000.0  \n4      265000.0  ",
      "text/html": "<div>\n<style scoped>\n    .dataframe tbody tr th:only-of-type {\n        vertical-align: middle;\n    }\n\n    .dataframe tbody tr th {\n        vertical-align: top;\n    }\n\n    .dataframe thead th {\n        text-align: right;\n    }\n</style>\n<table border=\"1\" class=\"dataframe\">\n  <thead>\n    <tr style=\"text-align: right;\">\n      <th></th>\n      <th>month</th>\n      <th>town</th>\n      <th>flat_type</th>\n      <th>block</th>\n      <th>street_name</th>\n      <th>storey_range</th>\n      <th>floor_area_sqm</th>\n      <th>flat_model</th>\n      <th>lease_commence_date</th>\n      <th>remaining_lease</th>\n      <th>resale_price</th>\n    </tr>\n  </thead>\n  <tbody>\n    <tr>\n      <th>0</th>\n      <td>2017-01</td>\n      <td>ANG MO KIO</td>\n      <td>2 ROOM</td>\n      <td>406</td>\n      <td>ANG MO KIO AVE 10</td>\n      <td>10 TO 12</td>\n      <td>44.0</td>\n      <td>Improved</td>\n      <td>1979</td>\n      <td>61 years 04 months</td>\n      <td>232000.0</td>\n    </tr>\n    <tr>\n      <th>1</th>\n      <td>2017-01</td>\n      <td>ANG MO KIO</td>\n      <td>3 ROOM</td>\n      <td>108</td>\n      <td>ANG MO KIO AVE 4</td>\n      <td>01 TO 03</td>\n      <td>67.0</td>\n      <td>New Generation</td>\n      <td>1978</td>\n      <td>60 years 07 months</td>\n      <td>250000.0</td>\n    </tr>\n    <tr>\n      <th>2</th>\n      <td>2017-01</td>\n      <td>ANG MO KIO</td>\n      <td>3 ROOM</td>\n      <td>602</td>\n      <td>ANG MO KIO AVE 5</td>\n      <td>01 TO 03</td>\n      <td>67.0</td>\n      <td>New Generation</td>\n      <td>1980</td>\n      <td>62 years 05 months</td>\n      <td>262000.0</td>\n    </tr>\n    <tr>\n      <th>3</th>\n      <td>2017-01</td>\n      <td>ANG MO KIO</td>\n      <td>3 ROOM</td>\n      <td>465</td>\n      <td>ANG MO KIO AVE 10</td>\n      <td>04 TO 06</td>\n      <td>68.0</td>\n      <td>New Generation</td>\n      <td>1980</td>\n      <td>62 years 01 month</td>\n      <td>265000.0</td>\n    </tr>\n    <tr>\n      <th>4</th>\n      <td>2017-01</td>\n      <td>ANG MO KIO</td>\n      <td>3 ROOM</td>\n      <td>601</td>\n      <td>ANG MO KIO AVE 5</td>\n      <td>01 TO 03</td>\n      <td>67.0</td>\n      <td>New Generation</td>\n      <td>1980</td>\n      <td>62 years 05 months</td>\n      <td>265000.0</td>\n    </tr>\n  </tbody>\n</table>\n</div>"
     },
     "execution_count": 8,
     "metadata": {},
     "output_type": "execute_result"
    }
   ],
   "source": [
    "recent_df = pd.read_csv(\"./resale-flat-prices/resale-flat-prices-based-on-registration-date-from-jan-2017-onwards.csv\")\n",
    "recent_df.head()"
   ],
   "metadata": {
    "collapsed": false,
    "pycharm": {
     "name": "#%%\n"
    }
   }
  },
  {
   "cell_type": "code",
   "execution_count": 10,
   "outputs": [
    {
     "data": {
      "text/plain": "          month    town  flat_type block    street_name storey_range  \\\n146333  2023-02  YISHUN     5 ROOM  347A  YISHUN AVE 11     13 TO 15   \n146334  2023-02  YISHUN     5 ROOM   785   YISHUN AVE 2     10 TO 12   \n146335  2023-02  YISHUN     5 ROOM  336C   YISHUN ST 31     07 TO 09   \n146336  2023-02  YISHUN     5 ROOM  513D   YISHUN ST 51     07 TO 09   \n146337  2023-02  YISHUN  EXECUTIVE   652   YISHUN AVE 4     07 TO 09   \n\n        floor_area_sqm flat_model  lease_commence_date     remaining_lease  \\\n146333           112.0       DBSS                 2013  89 years 09 months   \n146334           121.0   Improved                 1988  64 years 04 months   \n146335           112.0   Improved                 2015  91 years 11 months   \n146336           120.0       3Gen                 2018  94 years 02 months   \n146337           181.0  Apartment                 1992  68 years 05 months   \n\n        resale_price  \n146333      838888.0  \n146334      610000.0  \n146335      630000.0  \n146336      738000.0  \n146337     1068000.0  ",
      "text/html": "<div>\n<style scoped>\n    .dataframe tbody tr th:only-of-type {\n        vertical-align: middle;\n    }\n\n    .dataframe tbody tr th {\n        vertical-align: top;\n    }\n\n    .dataframe thead th {\n        text-align: right;\n    }\n</style>\n<table border=\"1\" class=\"dataframe\">\n  <thead>\n    <tr style=\"text-align: right;\">\n      <th></th>\n      <th>month</th>\n      <th>town</th>\n      <th>flat_type</th>\n      <th>block</th>\n      <th>street_name</th>\n      <th>storey_range</th>\n      <th>floor_area_sqm</th>\n      <th>flat_model</th>\n      <th>lease_commence_date</th>\n      <th>remaining_lease</th>\n      <th>resale_price</th>\n    </tr>\n  </thead>\n  <tbody>\n    <tr>\n      <th>146333</th>\n      <td>2023-02</td>\n      <td>YISHUN</td>\n      <td>5 ROOM</td>\n      <td>347A</td>\n      <td>YISHUN AVE 11</td>\n      <td>13 TO 15</td>\n      <td>112.0</td>\n      <td>DBSS</td>\n      <td>2013</td>\n      <td>89 years 09 months</td>\n      <td>838888.0</td>\n    </tr>\n    <tr>\n      <th>146334</th>\n      <td>2023-02</td>\n      <td>YISHUN</td>\n      <td>5 ROOM</td>\n      <td>785</td>\n      <td>YISHUN AVE 2</td>\n      <td>10 TO 12</td>\n      <td>121.0</td>\n      <td>Improved</td>\n      <td>1988</td>\n      <td>64 years 04 months</td>\n      <td>610000.0</td>\n    </tr>\n    <tr>\n      <th>146335</th>\n      <td>2023-02</td>\n      <td>YISHUN</td>\n      <td>5 ROOM</td>\n      <td>336C</td>\n      <td>YISHUN ST 31</td>\n      <td>07 TO 09</td>\n      <td>112.0</td>\n      <td>Improved</td>\n      <td>2015</td>\n      <td>91 years 11 months</td>\n      <td>630000.0</td>\n    </tr>\n    <tr>\n      <th>146336</th>\n      <td>2023-02</td>\n      <td>YISHUN</td>\n      <td>5 ROOM</td>\n      <td>513D</td>\n      <td>YISHUN ST 51</td>\n      <td>07 TO 09</td>\n      <td>120.0</td>\n      <td>3Gen</td>\n      <td>2018</td>\n      <td>94 years 02 months</td>\n      <td>738000.0</td>\n    </tr>\n    <tr>\n      <th>146337</th>\n      <td>2023-02</td>\n      <td>YISHUN</td>\n      <td>EXECUTIVE</td>\n      <td>652</td>\n      <td>YISHUN AVE 4</td>\n      <td>07 TO 09</td>\n      <td>181.0</td>\n      <td>Apartment</td>\n      <td>1992</td>\n      <td>68 years 05 months</td>\n      <td>1068000.0</td>\n    </tr>\n  </tbody>\n</table>\n</div>"
     },
     "execution_count": 10,
     "metadata": {},
     "output_type": "execute_result"
    }
   ],
   "source": [
    "recent_df.tail()"
   ],
   "metadata": {
    "collapsed": false,
    "pycharm": {
     "name": "#%%\n"
    }
   }
  },
  {
   "cell_type": "code",
   "execution_count": null,
   "outputs": [],
   "source": [],
   "metadata": {
    "collapsed": false,
    "pycharm": {
     "name": "#%%\n"
    }
   }
  }
 ],
 "metadata": {
  "kernelspec": {
   "display_name": "Python 3",
   "language": "python",
   "name": "python3"
  },
  "language_info": {
   "codemirror_mode": {
    "name": "ipython",
    "version": 2
   },
   "file_extension": ".py",
   "mimetype": "text/x-python",
   "name": "python",
   "nbconvert_exporter": "python",
   "pygments_lexer": "ipython2",
   "version": "2.7.6"
  }
 },
 "nbformat": 4,
 "nbformat_minor": 0
}